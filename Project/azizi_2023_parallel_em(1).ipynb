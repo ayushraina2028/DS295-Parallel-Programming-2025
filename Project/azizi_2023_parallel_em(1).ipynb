{
 "cells": [
  {
   "cell_type": "raw",
   "metadata": {
    "id": "5xKDnbvxK-7p"
   },
   "source": [
    "---\n",
    "title: \"Parallelization in Python - An Expectation Maximization Applicaton\"\n",
    "format:\n",
    "  arxiv-pdf:\n",
    "    keep-tex: true\n",
    "    linenumbers: false\n",
    "    doublespacing: false\n",
    "    runninghead: \"CUSO Informatique 2023 Winter School Report\"\n",
    "    # fig-width: 6\n",
    "    # fig-height: 6\n",
    "  arxiv-html: default\n",
    "author:\n",
    "  - name: Ilia Azizi\n",
    "    affiliations:\n",
    "      - name: Université de Lausanne\n",
    "        department: Département des Opérations (DO)\n",
    "        city: Anthropole, 3091\n",
    "    email: ilia.azizi@unil.ch\n",
    "    orcid: 0000-0002-7219-6001\n",
    "url: https://iliaazizi.com\n",
    "abstract: |\n",
    "  In this report, we explore the Expectation-Maximization (EM) algorithm for Gaussian Mixture Models (GMMs) and its implementation in Python using various libraries for optimization. We start with a vanilla Python implementation, then optimize it using NumPy, Numba, and CuPy. We compare the performance of these implementations on synthetic datasets and discuss the trade-offs involved. The report concludes with insights on the potential for significant performance improvements in the EM algorithm through the use of optimized Python libraries and parallel computing techniques.\n",
    "keywords:\n",
    "  - parallel computing\n",
    "  - multicore computing\n",
    "  - python\n",
    "  - expectation maximization\n",
    "bibliography: bibliography.bib\n",
    "include-in-header:\n",
    "  text: |\n",
    "    \\usepackage{fvextra}\n",
    "    \\DefineVerbatimEnvironment{Highlighting}{Verbatim}{breaklines,commandchars=\\\\\\{\\}}\n",
    "execute:\n",
    "  cache: true\n",
    "---"
   ]
  },
  {
   "cell_type": "code",
   "execution_count": 1,
   "metadata": {
    "executionInfo": {
     "elapsed": 566,
     "status": "ok",
     "timestamp": 1687624693076,
     "user": {
      "displayName": "Ilia Azizi",
      "userId": "02390338256008363424"
     },
     "user_tz": -120
    },
    "id": "g3sJhrx1K-7r"
   },
   "outputs": [],
   "source": [
    "#| echo: false\n",
    "#| eval: true\n",
    "#|\n",
    "# Remove warnings\n",
    "import warnings\n",
    "warnings.filterwarnings(\"ignore\")\n",
    "\n",
    "# setting the figure parameters\n",
    "import matplotlib as mpl\n",
    "mpl.rcParams['figure.figsize'] = [7, 3]\n",
    "mpl.rcParams['font.size'] = 8"
   ]
  },
  {
   "cell_type": "markdown",
   "metadata": {
    "id": "PBtT0dpxK-7s"
   },
   "source": [
    "# Introduction\n",
    "High-performance computing (HPC) has revolutionized the field of scientific research, enabling the processing of large datasets and the execution of complex simulations at unprecedented speeds. One of the key drivers of this revolution is the use of General-Purpose Graphics Processing Units (GPGPU) and the betterment of Central Processing Units (CPUs), which have significantly enhanced the computational capabilities of modern computers [@oliveira2017systematic].\n",
    "\n",
    "This report is a product of the CUSO Informatique 2023 Winter School, where the course explored the application of parallel computing in scientific research, focusing on GPGPU and multicore computing. The winter school delved into modern and simplified approaches to parallel programming in Python, Julia, and C++ programming languages and illustrated their use in concrete research applications. The high-performance computing was complementarity to an additional lecture on deep learning.\n",
    "\n",
    "This report focuses on the Python programming aspect of the course. More specifically, how parallelization of Python code both on the CPU and GPU can be made. To show the application of these technologies, we provide a comprehensive overview of the Expectation-Maximization (EM) algorithm, a powerful statistical technique used for finding maximum likelihood estimates in probabilistic models with latent variables. This is an interesting algorithm to explore as it is not easily parallelized due to its sequential nature. We discuss the implementation of the EM algorithm Python using different libraries that enable faster computation. We also compare the performance of these implementations, providing insights into the efficiency and effectiveness of different programming languages and computational approaches in the context of the EM algorithm.\n",
    "\n",
    "# Literature Review\n",
    "## Python and Parallelization\n",
    "\n",
    "Despite Python's limitations due to its interpreted nature and the Global Interpreter Lock (GIL), it has become popular in scientific computing due to its extensive ecosystem of scientific libraries. The library most often used for numerical computations is *NumPy*. Practioners who use parallel computing in Python often use numpy for data processing due to its notable speed improvement. However, for parallelizing the code itself, there are two approaches; multi-threading and multi-processing. Due to the GIL, multi-threading does not lead to true parallelism and is mainly helpful for I/O-bound tasks. Conversely, multi-processing achieves true parallelism and is facilitated by Python's *multi-processing* module.\n",
    "\n",
    "Python also supports parallel computing through third-party libraries like *Dask* and *Numba*. Dask integrates with existing Python APIs to enable parallel and larger-than-memory computations. Numba, a just-in-time (JIT) compiler, translates Python and NumPy code into fast machine code at runtime, providing parallel and GPU-accelerated computing support.\n",
    "\n",
    "For GPU-accelerated computing, libraries such as *CuPy* and *PyTorch* (not discussed here) provide a NumPy-like API for performing computations on GPUs. Python's variety of tools and libraries for parallel and high-performance computing, combined with its simplicity and readability, make it a viable choice for scientific computing and data analysis tasks.\n",
    "\n",
    "## Expectation Maximization (EM)\n",
    "The Expectation-Maximization (EM) algorithm, introduced by @Dempster1977, is a powerful statistical technique for finding maximum likelihood estimates in probabilistic models with latent variables. The algorithm iteratively performs two steps: the Expectation (E) step, which computes the expected value of the log-likelihood function, and the Maximization (M) step, which updates the parameters to maximize this expected value. This process is repeated until convergence. In the context of this report, we focus on EM with the Gaussian Mixture Model (GMM). This probabilistic model assumes all the data points are generated from a mixture of a finite number of Gaussian distributions with unknown parameters. The EM algorithm can be mathematically described as follows:\n",
    "\n",
    "1. **Expectation (E) step**: Given the current parameters of the model, the E-step computes the expected value of the log-likelihood function. In the context of a GMM, this involves calculating so-called responsibilities, which represent the probability that a particular Gaussian component generates a given data point. The responsibilities are given by:\n",
    "$$\n",
    "\\gamma(z_{nk}) = \\frac{\\pi_k \\mathcal{N}(x_n | \\mu_k, \\Sigma_k)}{\\sum_{j=1}^K \\pi_j \\mathcal{N}(x_n | \\mu_j, \\Sigma_j)}\n",
    "$$\n",
    "where $\\gamma(z_{nk})$ is the responsibility of the $k^{th}$ Gaussian component for the $n^{th}$ data point, $\\pi_k​$ is the weight of the $k^{th}$ Gaussian component, $\\mathcal{N}(x_n | \\mu_k, \\Sigma_k)$ is the probability density function of the $k^{th}$ Gaussian component evaluated at the $n^{th}$ data point, and $K$ is the total number of Gaussian components.\n",
    "\n",
    "2. **Maximization (M) step**: The M-step updates the parameters of the model to maximize the expected log-likelihood found in the E-step. For a GMM, this involves updating the weights, means, and covariances of the Gaussian components based on the responsibilities calculated in the E-step. The updated parameters are given by:\n",
    "$$\n",
    "\\mu_k^{new} = \\frac{1}{N_k} \\sum_{n=1}^N \\gamma(z_{nk}) x_n\n",
    "$$\n",
    "$$\n",
    "\\Sigma_k^{new} = \\frac{1}{N_k} \\sum_{n=1}^N \\gamma(z_{nk}) (x_n - \\mu_k^{new})(x_n - \\mu_k^{new})^T\n",
    "$$\n",
    "$$\n",
    "\\pi_k^{new} = \\frac{N_k}{N}\n",
    "$$\n",
    "where $N_k = \\sum_{n=1}^N \\gamma(z_{nk})$ is the effective number of data points assigned to the $k^{th}$ Gaussian component, $N$ is the total number of data points, and $x_n$​ is the $n^{th}$ data point. The EM algorithm alternates between the E and M steps until the parameters converge, which is typically determined by a small change in the log-likelihood from one iteration to the next.\n",
    "\n",
    "In high-performance computing, the EM algorithm presents an interesting case study due to its iterative nature and the potential for parallelization in the E-step. Several studies have explored the parallelization of the EM algorithm, demonstrating significant speedups. For instance, @dean2008mapreduce presented a parallel implementation of the EM algorithm using the MapReduce programming model. @Lee2016 provided similar ideas for multi-threading, which require minimal changes to the sequential implementation. In another study, @zhang2010gpu proposed a GPU-based parallel EM algorithm for Gaussian Mixture Models. They demonstrated that GPU-based implementation could achieve up to 45 times faster than CPU-based.\n",
    "\n",
    "More recently, the rise of modern programming languages like Python, Julia, and C++ has opened up new possibilities for parallel computing. These languages offer various libraries and tools for parallel programming, such as Numba, which can accelerate the EM algorithm [@chou2011fast].\n",
    "\n",
    "# Implementation\n",
    "This report will explore widely used Python-based libraries built on top of faster languages such as C++ for parallel CPU and GPU computing. The GPU implementations run on CUDA programming language, a subset of C++ used for GPU parallel computing to enhance the speed performance of the EM algorithm. The implementation of the EM algorithm is done with the following libraries:\n",
    "\n",
    "- Vanilla (base) Python and *NumPy* for sequential execution.\n",
    "- *Multi-processing* was initially experimented with for CPU-based parallel computing but was not included later in the report due to failing to achieve performance gains.\n",
    "- *Numba*: A just-in-time Python compiler that provides parallelization and machine-specific optimizations.\n",
    "- *CuPy* for GPU-based parallel computing.\n",
    "\n",
    "## Data generation\n",
    "We first generate some data to test our models. We want a multi-modal distribution for our data to assess how effectively EM can capture the different means and standard deviations. Additionally, a Gaussian mixture model (GMM) approach was chosen as it allows further parallelization opportunities for the data.\n",
    "\n",
    "\\scriptsize"
   ]
  },
  {
   "cell_type": "code",
   "execution_count": 2,
   "metadata": {
    "executionInfo": {
     "elapsed": 4,
     "status": "ok",
     "timestamp": 1687624693583,
     "user": {
      "displayName": "Ilia Azizi",
      "userId": "02390338256008363424"
     },
     "user_tz": -120
    },
    "id": "m2iFpewwK-7t"
   },
   "outputs": [],
   "source": [
    "import numpy as np\n",
    "import matplotlib.pyplot as plt\n",
    "import random\n",
    "from numba import njit, prange\n",
    "\n",
    "# Generate data\n",
    "def generate_data(n, means, stds, weights, num_mixtures, use_numpy=True):\n",
    "    random.seed(0)\n",
    "    if use_numpy:\n",
    "        np.random.seed(0)\n",
    "        mixture_idx = np.random.choice(num_mixtures, size=n, p=weights)\n",
    "        y = np.fromiter((np.random.normal(means[i], stds[i]) for i in mixture_idx), dtype=np.float64)\n",
    "    else:\n",
    "        mixture_idx = [random.choices(range(num_mixtures), weights)[0] for _ in range(n)]\n",
    "        y = [random.gauss(means[i], stds[i]) for i in mixture_idx]\n",
    "    return y"
   ]
  },
  {
   "cell_type": "markdown",
   "metadata": {
    "id": "62iOHLcsK-7u"
   },
   "source": [
    "\\normalsize\n",
    "\n",
    "## Vanilla Python (base)\n",
    "The base Python implementation of the EM algorithm uses standard Python data structures and control flow constructs, making it easy to understand and modify. However, due to Python's interpreted nature, this implementation may not be the most efficient for large datasets or complex models. The base Python implementation serves as a reference for the more optimized versions of the algorithm implemented using libraries such as NumPy and CuPy.\n",
    "\n",
    "In this implementation, the E-step and M-step of the EM algorithm are implemented as separate functions, `e_step_py` and `m_step_py`, respectively. The `e_step_py` function computes the responsibilities for each data point and each mixture component using a nested loop. In contrast, the `m_step_py` function updates the parameters of the mixture components based on these responsibilities. The log-likelihood of the data given the current parameters is computed in the `compute_log_likelihood_py` function. The primary `em_py` function iterates these steps until convergence, keeping track of the log-likelihood at each step to monitor the progress of the algorithm.\n",
    "\n",
    "\\scriptsize"
   ]
  },
  {
   "cell_type": "code",
   "execution_count": 3,
   "metadata": {
    "executionInfo": {
     "elapsed": 4,
     "status": "ok",
     "timestamp": 1687624693583,
     "user": {
      "displayName": "Ilia Azizi",
      "userId": "02390338256008363424"
     },
     "user_tz": -120
    },
    "id": "E2ueGCQxK-7u"
   },
   "outputs": [],
   "source": [
    "# Vanilla python EM\n",
    "import time\n",
    "import math\n",
    "# from math import pi, sqrt, exp, log\n",
    "\n",
    "# Define a normal_pdf function\n",
    "def normal_pdf(x, mean, std_dev):\n",
    "    \"\"\"Calculate normal density function for a given x, mean and standard deviation.\"\"\"\n",
    "    return (1.0 / (std_dev * ((2*math.pi)**0.5))) * math.exp(-0.5 * ((x - mean) / std_dev)**2)\n",
    "\n",
    "def e_step_py(data, means, stds, weights, num_mixtures):\n",
    "    \"\"\"E-step: compute responsibilities.\"\"\"\n",
    "    resp = []\n",
    "    for i in range(num_mixtures):\n",
    "        resp.append([weights[i] * normal_pdf(d, means[i], stds[i]) for d in data])\n",
    "    resp_sum = [sum(r) for r in zip(*resp)]\n",
    "    resp = [[r / s for r, s in zip(resp[i], resp_sum)] for i in range(num_mixtures)]\n",
    "    return resp\n",
    "\n",
    "def m_step_py(data, resp, num_mixtures):\n",
    "    \"\"\"M-step: update parameters.\"\"\"\n",
    "    means = [sum(r * d for r, d in zip(resp[i], data)) / sum(resp[i]) for i in range(num_mixtures)]\n",
    "    stds = [math.sqrt(sum(r * (d - means[i]) ** 2 for r, d in zip(resp[i], data)) / sum(resp[i])) for i in range(num_mixtures)]\n",
    "    weights = [sum(r) / len(data) for r in resp]\n",
    "    return means, stds, weights\n",
    "\n",
    "def compute_log_likelihood_py(data, means, stds, weights, num_mixtures):\n",
    "    \"\"\"Compute the log-likelihood.\"\"\"\n",
    "    ll = sum(math.log(sum(weights[i] * normal_pdf(d, means[i], stds[i]) for i in range(num_mixtures))) for d in data)\n",
    "    return ll\n",
    "\n",
    "\n",
    "def em_py(data, means, stds, weights, num_mixtures, num_iter=100):\n",
    "    \"\"\"EM algorithm.\"\"\"\n",
    "    start_time = time.time()\n",
    "    log_likelihoods = []\n",
    "    for _ in range(num_iter):\n",
    "        resp = e_step_py(data, means, stds, weights, num_mixtures)\n",
    "        means, stds, weights = m_step_py(data, resp, num_mixtures)\n",
    "        ll = compute_log_likelihood_py(data, means, stds, weights, num_mixtures)\n",
    "        log_likelihoods.append(ll)\n",
    "        print(\"Vanilla Py step\", _, \"Log-likelihood:\", ll)\n",
    "    end_time = time.time()\n",
    "    elapsed_time = end_time - start_time\n",
    "    return means, stds, weights, elapsed_time, log_likelihoods"
   ]
  },
  {
   "cell_type": "markdown",
   "metadata": {
    "id": "tHZVJg5NK-7u"
   },
   "source": [
    "\\normalsize\n",
    "## Numpy\n",
    "The NumPy implementation of the EM algorithm takes advantage of the efficient array operations provided by the NumPy library to speed up the computation. NumPy is a Python library that provides support for large, multi-dimensional arrays and matrices, along with a collection of mathematical functions to operate on these arrays. Using NumPy, we can replace explicit loops with vectorized operations implemented in compiled C code for performance.\n",
    "\n",
    "In the NumPy implementation, the E-step and M-step are implemented in the `e_step_numpy` and `m_step_numpy` functions, respectively. These functions use NumPy's array broadcasting and aggregation functions to compute the responsibilities and update the parameters in a vectorized manner. The `compute_log_likelihood_numpy` function computes the log-likelihood of the data given the current parameters using NumPy functions. The main `em_numpy` function iterates these steps until convergence, similar to the base Python implementation. However, due to using NumPy's array operations, this implementation is expected to be significantly faster for large datasets.\n",
    "\n",
    "\\scriptsize"
   ]
  },
  {
   "cell_type": "code",
   "execution_count": 4,
   "metadata": {
    "executionInfo": {
     "elapsed": 4,
     "status": "ok",
     "timestamp": 1687624693584,
     "user": {
      "displayName": "Ilia Azizi",
      "userId": "02390338256008363424"
     },
     "user_tz": -120
    },
    "id": "9t0-gIdRK-7v"
   },
   "outputs": [],
   "source": [
    "def normal_pdf(x, mean, std_dev):\n",
    "    \"\"\"Calculate normal density function for a given x, mean and standard deviation.\"\"\"\n",
    "    return (1.0 / (std_dev * ((2*np.pi)**0.5))) * np.exp(-0.5 * ((x - mean) / std_dev)**2)\n",
    "\n",
    "def e_step_numpy(data, means, stds, weights, num_mixtures):\n",
    "    \"\"\"E-step: compute responsibilities.\"\"\"\n",
    "    resp = np.empty((num_mixtures, len(data)))\n",
    "    for i in range(num_mixtures):\n",
    "        resp[i, :] = weights[i] * normal_pdf(data, means[i], stds[i])\n",
    "    resp /= resp.sum(axis=0)\n",
    "    return resp\n",
    "\n",
    "def m_step_numpy(data, resp, num_mixtures):\n",
    "    \"\"\"M-step: update parameters.\"\"\"\n",
    "    means = np.sum(resp * data, axis=1) / np.sum(resp, axis=1)\n",
    "    stds = np.sqrt(np.sum(resp * (data - means[:, None]) ** 2, axis=1) / np.sum(resp, axis=1))\n",
    "    weights = np.mean(resp, axis=1)\n",
    "    return means, stds, weights\n",
    "\n",
    "def compute_log_likelihood_numpy(data, means, stds, weights, num_mixtures):\n",
    "    \"\"\"Compute the log-likelihood.\"\"\"\n",
    "    ll = 0\n",
    "    for i in range(num_mixtures):\n",
    "        ll += weights[i] * normal_pdf(data, mean=means[i], std_dev=stds[i])\n",
    "    ll = np.sum(np.log(ll))\n",
    "    return ll\n",
    "\n",
    "def em_numpy(data, means, stds, weights, num_mixtures, num_iter=100, print_output=True):\n",
    "    \"\"\"EM algorithm.\"\"\"\n",
    "    start_time = time.time()\n",
    "    log_likelihoods = []\n",
    "    for _ in range(num_iter):\n",
    "        resp = e_step_numpy(data, means, stds, weights, num_mixtures)\n",
    "        means, stds, weights = m_step_numpy(data, resp, num_mixtures)\n",
    "        ll = compute_log_likelihood_numpy(data, means, stds, weights, num_mixtures)\n",
    "        log_likelihoods.append(ll)\n",
    "        if print_output:\n",
    "            print(\"Numpy step\", _, \"Log-likelihood:\", ll)\n",
    "    end_time = time.time()\n",
    "    elapsed_time = end_time - start_time\n",
    "    return means, stds, weights, elapsed_time, log_likelihoods"
   ]
  },
  {
   "cell_type": "markdown",
   "metadata": {
    "id": "lXwRBHxtK-7v"
   },
   "source": [
    "\\normalsize\n",
    "\n",
    "## Numba\n",
    "\n",
    "Numba is a just-in-time (JIT) compiler for Python that translates a subset of Python and NumPy code into fast machine code. It uses the LLVM compiler infrastructure to generate optimized machine code from pure Python. This can lead to significant performance improvements for numerical computations, particularly CPU-bound tasks.\n",
    "\n",
    "In the context of the EM algorithm, Numba can accelerate the computation of responsibilities in the E-step and the parameter updates in the M-step. The `@njit` decorator compiles the functions that perform these computations, allowing them to be executed as fast machine code. Additionally, the `parallel=True` option enables automatic parallelization of these functions, further improving performance on multicore CPUs.\n",
    "\n",
    "The `compute_resp` function is defined to compute the responsibilities for a single data point and mixture component. This function is then used in the `e_step_numba` and `m_step_numba` functions, which are parallelized using Numba's automatic parallelization feature. This allows the responsibilities to be computed and the parameters to be updated concurrently for different data points and mixture components, leading to a significant speedup.\n",
    "\n",
    "The main `em_numba` function iterates the E-step and M-step until convergence or a maximum number of iterations is reached, similar to the previous implementations. However, due to the use of Numba's JIT compilation and automatic parallelization, this implementation is expected to be significantly faster, particularly for large datasets.\n",
    "\n",
    "\\scriptsize"
   ]
  },
  {
   "cell_type": "code",
   "execution_count": 5,
   "metadata": {
    "executionInfo": {
     "elapsed": 4,
     "status": "ok",
     "timestamp": 1687624693584,
     "user": {
      "displayName": "Ilia Azizi",
      "userId": "02390338256008363424"
     },
     "user_tz": -120
    },
    "id": "0pmb565rK-7v"
   },
   "outputs": [],
   "source": [
    "#| eval: true\n",
    "from numba import jit, njit, prange\n",
    "\n",
    "@jit\n",
    "def normal_pdf(x, mean, std_dev):\n",
    "    \"\"\"Calculate normal density function for a given x, mean and standard deviation.\"\"\"\n",
    "    return (1.0 / (std_dev * ((2*np.pi)**0.5))) * np.exp(-0.5 * ((x - mean) / std_dev)**2)\n",
    "\n",
    "@jit\n",
    "def compute_resp(data, means, stds, weights, i, j):\n",
    "    return weights[i] * normal_pdf(data[j], means[i], stds[i])\n",
    "\n",
    "@jit(parallel=True)\n",
    "def e_step_numba(data, means, stds, weights, num_mixtures):\n",
    "    resp = np.empty((num_mixtures, len(data)))\n",
    "    for i in prange(num_mixtures):\n",
    "        for j in range(len(data)):\n",
    "            resp[i, j] = compute_resp(data, means, stds, weights, i, j)\n",
    "    sum_resp = np.sum(resp, axis=0)\n",
    "    for i in prange(num_mixtures):\n",
    "        for j in range(len(data)):\n",
    "            resp[i, j] /= sum_resp[j]\n",
    "    return resp\n",
    "\n",
    "@jit(parallel=True)\n",
    "def m_step_numba(data, resp, num_mixtures):\n",
    "    means = np.zeros(num_mixtures)\n",
    "    stds = np.zeros(num_mixtures)\n",
    "    weights = np.zeros(num_mixtures)\n",
    "    for i in prange(num_mixtures):\n",
    "        resp_sum = np.sum(resp[i, :])\n",
    "        weighted_sum = np.sum(resp[i, :] * data)\n",
    "        means[i] = weighted_sum / resp_sum\n",
    "        stds[i] = np.sqrt(np.sum(resp[i, :] * (data - means[i]) ** 2) / resp_sum)\n",
    "        weights[i] = resp_sum / resp.shape[1]\n",
    "    return means, stds, weights\n",
    "\n",
    "def em_numba(data, means, stds, weights, num_mixtures, num_iter=100, print_output=True):\n",
    "    start_time = time.time()\n",
    "    log_likelihoods = []\n",
    "    for _ in prange(num_iter):\n",
    "        resp = e_step_numba(data, means, stds, weights, num_mixtures)\n",
    "        means, stds, weights = m_step_numba(data, resp, num_mixtures)\n",
    "        ll = compute_log_likelihood_numpy(data, means, stds, weights, num_mixtures)\n",
    "        log_likelihoods.append(ll)\n",
    "        if print_output:\n",
    "            print(\"Numba step\", _, \"Log-likelihood:\", ll)\n",
    "    end_time = time.time()\n",
    "    elapsed_time = end_time - start_time\n",
    "    return means, stds, weights, elapsed_time, log_likelihoods"
   ]
  },
  {
   "cell_type": "markdown",
   "metadata": {
    "id": "IbVISzLpK-7w"
   },
   "source": [
    "\\normalsize\n",
    "\n",
    "## CuPy\n",
    "\n",
    "CuPy is a GPU-accelerated library for numerical computations in Python. It provides a NumPy-like API, but all computations are performed on the GPU. This allows for significant performance improvements for large-scale numerical computations, as GPUs can perform many computations concurrently.\n",
    "\n",
    "In the context of the EM algorithm, CuPy can accelerate the computation of responsibilities in the E-step and the parameter updates in the M-step. The `normal_pdf_cupy`, `e_step_cupy`, `m_step_cupy`, and `compute_log_likelihood_cupy` functions are defined similarly to their NumPy counterparts but use CuPy functions instead of NumPy functions. This allows these computations to be performed on the GPU, leading to a significant speedup for large datasets.\n",
    "\n",
    "The main `em_cupy` function iterates the E-step and M-step until convergence or a maximum number of iterations is reached, similar to the previous implementations. However, due to the use of CuPy's GPU-accelerated computations, this implementation is expected to be significantly faster, particularly for large datasets.\n",
    "\n",
    "It is important to note that while CuPy can provide significant speedups for large-scale numerical computations, it also requires a compatible GPU. Furthermore, data transfer between the CPU and GPU can introduce additional overhead, limiting the speedup achievable by GPU acceleration. Therefore, it is crucial to benchmark the performance of the CuPy implementation against the other implementations for a given dataset and hardware configuration to determine the optimal approach.\n",
    "\n",
    "\\scriptsize"
   ]
  },
  {
   "cell_type": "code",
   "execution_count": 6,
   "metadata": {
    "executionInfo": {
     "elapsed": 4,
     "status": "ok",
     "timestamp": 1687624693584,
     "user": {
      "displayName": "Ilia Azizi",
      "userId": "02390338256008363424"
     },
     "user_tz": -120
    },
    "id": "NWHZIiYXK-7w"
   },
   "outputs": [],
   "source": [
    "import cupy as cp\n",
    "\n",
    "def normal_pdf_cupy(x, mean, std_dev):\n",
    "    \"\"\"Calculate normal density function for a given x, mean and standard deviation.\"\"\"\n",
    "    return (1.0 / (std_dev * ((2*cp.pi)**0.5))) * cp.exp(-0.5 * ((x - mean) / std_dev)**2)\n",
    "\n",
    "def e_step_cupy(data, means, stds, weights, num_mixtures):\n",
    "    \"\"\"E-step: compute responsibilities.\"\"\"\n",
    "    resp = cp.empty((num_mixtures, len(data)))\n",
    "    for i in range(num_mixtures):\n",
    "        resp[i, :] = weights[i] * normal_pdf_cupy(data, means[i], stds[i])\n",
    "    resp /= resp.sum(axis=0)\n",
    "    return resp\n",
    "\n",
    "def m_step_cupy(data, resp, num_mixtures):\n",
    "    \"\"\"M-step: update parameters.\"\"\"\n",
    "    means = cp.sum(resp * data, axis=1) / cp.sum(resp, axis=1)\n",
    "    stds = cp.sqrt(cp.sum(resp * (data - means[:, None]) ** 2, axis=1) / cp.sum(resp, axis=1))\n",
    "    weights = cp.mean(resp, axis=1)\n",
    "    return means, stds, weights\n",
    "\n",
    "def compute_log_likelihood_cupy(data, means, stds, weights, num_mixtures):\n",
    "    \"\"\"Compute the log-likelihood.\"\"\"\n",
    "    ll = 0\n",
    "    for i in range(num_mixtures):\n",
    "        ll += weights[i] * normal_pdf_cupy(data, mean=means[i], std_dev=stds[i])\n",
    "    ll = cp.sum(cp.log(ll))\n",
    "    return ll\n",
    "\n",
    "def em_cupy(data, means, stds, weights, num_mixtures, num_iter=100):\n",
    "    \"\"\"EM algorithm.\"\"\"\n",
    "    start_time = time.time()\n",
    "    log_likelihoods = []\n",
    "    for _ in range(num_iter):\n",
    "        resp = e_step_cupy(data, means, stds, weights, num_mixtures)\n",
    "        means, stds, weights = m_step_cupy(data, resp, num_mixtures)\n",
    "        ll = compute_log_likelihood_cupy(data, means, stds, weights, num_mixtures)\n",
    "        log_likelihoods.append(ll)\n",
    "        print(\"CuPy step\", _, \"Log-likelihood:\", ll)\n",
    "    end_time = time.time()\n",
    "    elapsed_time = end_time - start_time\n",
    "    return means, stds, weights, elapsed_time, log_likelihoods"
   ]
  },
  {
   "cell_type": "markdown",
   "metadata": {
    "id": "_4DgBRMNK-7w"
   },
   "source": [
    "\\normalsize\n",
    "\n",
    "# Results\n",
    "## Data generation\n",
    "We generate the data for the means, standard deviations, and weights. The number of instances, means, standard deviations, and weights are set to generate the data. We generate data using both Python lists and NumPy arrays for comparison purposes. The generated data is visualized in a histogram, showing the distribution of data points.\n",
    "\n",
    "\\scriptsize"
   ]
  },
  {
   "cell_type": "code",
   "execution_count": 7,
   "metadata": {
    "colab": {
     "base_uri": "https://localhost:8080/",
     "height": 313
    },
    "executionInfo": {
     "elapsed": 10244,
     "status": "ok",
     "timestamp": 1687624703824,
     "user": {
      "displayName": "Ilia Azizi",
      "userId": "02390338256008363424"
     },
     "user_tz": -120
    },
    "id": "yhV13HLxK-7w",
    "outputId": "1f6d1dd0-3307-4a6b-9b87-d4ee16d59a3a"
   },
   "outputs": [
    {
     "data": {
      "image/png": "[encoded data removed]",
      "text/plain": [
       "<Figure size 700x300 with 2 Axes>"
      ]
     },
     "metadata": {},
     "output_type": "display_data"
    }
   ],
   "source": [
    "#| label: fig-generated-data\n",
    "#| fig-cap: Generated data with 4 Gaussian mixtures\n",
    "# Set the number of instances with means, stds, and weights to generate\n",
    "n = 1000000\n",
    "means = [0, 5, 10, 3]\n",
    "stds = [1, 1, 1,0.5]\n",
    "weights = [0.3, 0.3, 0.3, 0.1]\n",
    "num_mixtures = len(weights)\n",
    "\n",
    "data = generate_data(n, means, stds, weights, num_mixtures, use_numpy=False)\n",
    "data_numpy = generate_data(n, means, stds, weights, num_mixtures, use_numpy=True)\n",
    "data_cupy = cp.asarray(data_numpy) #only enable if you have a CUDA-enabled GPU (and imported `cupy`)\n",
    "\n",
    "# Create subplots\n",
    "fig, axs = plt.subplots(1, 2, sharey=True, tight_layout = True)\n",
    "\n",
    "# Draw the data for Python list\n",
    "axs[0].hist(data, bins=100, density=True)\n",
    "axs[0].set_title(\"(a) Python list\")\n",
    "\n",
    "# Draw the data for numpy\n",
    "axs[1].hist(data_numpy, bins=100, density=True)\n",
    "axs[1].set_title(\"(b) Numpy\")\n",
    "\n",
    "plt.show()"
   ]
  },
  {
   "cell_type": "markdown",
   "metadata": {
    "id": "SuK85rM_K-7w"
   },
   "source": [
    "\\normalsize\n",
    "\n",
    "## Executing different implementations\n",
    "We execute the EM algorithm using different implementations: vanilla Python, NumPy, Numba, and CuPy. The initial parameters for the model are set, and the EM algorithm is run for a specified number of iterations. The results, including the estimated means, standard deviations, weights, and execution time, are printed for each implementation. Here is a high-level summary of each implementation:\n",
    "\n",
    "- Vanilla Python EM: This is the simplest form of the algorithm, implemented using basic Python data structures and operations. It is likely to be the slowest version, particularly for large datasets, as Python is an interpreted language and can be slow for large-scale numerical computation.\n",
    "\n",
    "- NumPy: This version replaces Python lists with NumPy arrays and uses NumPy operations for the E-step and M-step. Since NumPy operations are implemented in C and can take advantage of vectorized operations, this version should be much faster than the vanilla Python version.\n",
    "\n",
    "- Numba: This version uses the Numba library to compile the E-step and M-step functions to machine code at runtime (a process known as 'just-in-time' compilation). This should make these functions much faster, particularly for large datasets.\n",
    "\n",
    "- CuPy: This version replaces NumPy arrays with CuPy arrays, which are similar but run on a GPU instead of a CPU. This means the algorithm can take advantage of the massively parallel architecture of modern GPUs, which should be significantly faster than any CPU-based version for large datasets. Please note that the GPU-based version (CuPy) requires a compatible NVIDIA GPU and the CUDA toolkit to be installed on the machine running the code. Additionally, not all operations might be faster on GPU due to the overhead of moving data between the CPU and GPU. It is usually beneficial when the computational cost is high, and the data can be processed in parallel.\n",
    "\n",
    "To test our implementations, we first initialize some information for the model parameters:\n",
    "\n",
    "\\scriptsize"
   ]
  },
  {
   "cell_type": "code",
   "execution_count": 8,
   "metadata": {
    "executionInfo": {
     "elapsed": 4,
     "status": "ok",
     "timestamp": 1687624703824,
     "user": {
      "displayName": "Ilia Azizi",
      "userId": "02390338256008363424"
     },
     "user_tz": -120
    },
    "id": "RZEPxKZDK-7w"
   },
   "outputs": [],
   "source": [
    "# Initial parameters\n",
    "means_init = [-1, -3, 11, 4]\n",
    "stds_init = [1, 1, 1, 0.5]\n",
    "parts = len(means_init)\n",
    "weights_init = [(1/parts)] * parts\n",
    "num_iter = 10"
   ]
  },
  {
   "cell_type": "markdown",
   "metadata": {
    "id": "iNgYRGZmK-7w"
   },
   "source": [
    "\\normalsize\n",
    "\n",
    "Please note that we use Python lists and not Numpy arrays for the base Python implementation to ensure that the comparison is fair.\n",
    "\n",
    "\\scriptsize"
   ]
  },
  {
   "cell_type": "code",
   "execution_count": 9,
   "metadata": {
    "colab": {
     "base_uri": "https://localhost:8080/"
    },
    "executionInfo": {
     "elapsed": 80084,
     "status": "ok",
     "timestamp": 1687624783906,
     "user": {
      "displayName": "Ilia Azizi",
      "userId": "02390338256008363424"
     },
     "user_tz": -120
    },
    "id": "nn7TFtBaK-7w",
    "outputId": "76dcc2d9-7859-47f6-877b-35eae27e068d"
   },
   "outputs": [
    {
     "name": "stdout",
     "output_type": "stream",
     "text": [
      "Vanilla Py step 0 Log-likelihood: -2582154.77915232\n",
      "Vanilla Py step 1 Log-likelihood: -2564856.1762425895\n",
      "Vanilla Py step 2 Log-likelihood: -2557584.567868932\n",
      "Vanilla Py step 3 Log-likelihood: -2555382.033204309\n",
      "Vanilla Py step 4 Log-likelihood: -2554632.264487238\n",
      "Vanilla Py step 5 Log-likelihood: -2554285.7716815015\n",
      "Vanilla Py step 6 Log-likelihood: -2554092.1019310234\n",
      "Vanilla Py step 7 Log-likelihood: -2553973.2082615434\n",
      "Vanilla Py step 8 Log-likelihood: -2553896.8185001\n",
      "Vanilla Py step 9 Log-likelihood: -2553846.817178973\n",
      "Numpy step 0 Log-likelihood: -2581404.261439712\n",
      "Numpy step 1 Log-likelihood: -2564104.366757368\n",
      "Numpy step 2 Log-likelihood: -2556997.094354966\n",
      "Numpy step 3 Log-likelihood: -2554859.3549245144\n",
      "Numpy step 4 Log-likelihood: -2554117.8439922445\n",
      "Numpy step 5 Log-likelihood: -2553769.4140029433\n",
      "Numpy step 6 Log-likelihood: -2553573.186908773\n",
      "Numpy step 7 Log-likelihood: -2553452.491059332\n",
      "Numpy step 8 Log-likelihood: -2553375.025107684\n",
      "Numpy step 9 Log-likelihood: -2553324.4228862813\n",
      "Numba step 0 Log-likelihood: -2581404.261439898\n",
      "Numba step 1 Log-likelihood: -2564104.366757518\n",
      "Numba step 2 Log-likelihood: -2556997.0943550174\n",
      "Numba step 3 Log-likelihood: -2554859.354924579\n",
      "Numba step 4 Log-likelihood: -2554117.8439923525\n",
      "Numba step 5 Log-likelihood: -2553769.4140030583\n",
      "Numba step 6 Log-likelihood: -2553573.186908894\n",
      "Numba step 7 Log-likelihood: -2553452.491059437\n",
      "Numba step 8 Log-likelihood: -2553375.025107807\n",
      "Numba step 9 Log-likelihood: -2553324.4228864317\n",
      "CuPy step 0 Log-likelihood: -2581404.261439712\n",
      "CuPy step 1 Log-likelihood: -2564104.36675737\n",
      "CuPy step 2 Log-likelihood: -2556997.0943549667\n",
      "CuPy step 3 Log-likelihood: -2554859.3549245163\n",
      "CuPy step 4 Log-likelihood: -2554117.843992245\n",
      "CuPy step 5 Log-likelihood: -2553769.4140029433\n",
      "CuPy step 6 Log-likelihood: -2553573.1869087704\n",
      "CuPy step 7 Log-likelihood: -2553452.491059334\n",
      "CuPy step 8 Log-likelihood: -2553375.0251076836\n",
      "CuPy step 9 Log-likelihood: -2553324.4228862817\n",
      "--------------------------------------------------\n",
      "Python:\n",
      "\tmeans = [0.0021209458942941864, -1.249459098609342, 10.025028819197471, 4.4264578305478075] \n",
      "\tstds = [0.9055451139404085, 0.7863787913320834, 0.9752345182287612, 1.3935990569916035] \n",
      "\tweights = [0.26646033075274256, 0.01887372253199572, 0.29580849955158667, 0.4188574471635171] \n",
      "\ttime = 18.160101890563965 s\n",
      "Numpy:\n",
      "\tmeans = [-1.14831737e-03 -1.25025853e+00  1.00261527e+01  4.42142995e+00] \n",
      "\tstds = [0.90286045 0.78567263 0.97483005 1.39435329] \n",
      "\tweights = [0.26562812 0.01881812 0.29643972 0.41911404] \n",
      "\ttime = 0.6094675064086914 s\n",
      "Numba:\n",
      "\tmeans = [-1.14831737e-03 -1.25025853e+00  1.00261527e+01  4.42142995e+00] \n",
      "\tstds = [0.90286045 0.78567263 0.97483005 1.39435329] \n",
      "\tweights = [0.26562812 0.01881812 0.29643972 0.41911404] \n",
      "\ttime = 0.3253047466278076 s\n",
      "CuPy:\n",
      "\tmeans = [-1.14831737e-03 -1.25025853e+00  1.00261527e+01  4.42142995e+00] \n",
      "\tstds = [0.90286045 0.78567263 0.97483005 1.39435329] \n",
      "\tweights = [0.26562812 0.01881812 0.29643972 0.41911404] \n",
      "\ttime = 0.44506287574768066 s\n"
     ]
    }
   ],
   "source": [
    "# Run EM algorithm with vanilla Python\n",
    "means_py, stds_py, weights_py, elapsed_time_py, log_likelihoods_py = em_py(\n",
    "    data, means_init, stds_init, weights_init, num_mixtures, num_iter\n",
    ")\n",
    "\n",
    "# Make the initial means also into NumPy arrays\n",
    "means_init = np.array(means_init)\n",
    "stds_init = np.array(stds_init)\n",
    "weights_init = np.array(weights_init)\n",
    "\n",
    "# Run EM algorithm with Numpy\n",
    "means_numpy, stds_numpy, weights_numpy, elapsed_time_numpy, log_likelihoods_numpy = em_numpy(\n",
    "    data_numpy[:100], means_init, stds_init, weights_init, num_mixtures, num_iter,\n",
    "    print_output=False\n",
    ")\n",
    "\n",
    "means_numpy, stds_numpy, weights_numpy, elapsed_time_numpy, log_likelihoods_numpy = em_numpy(\n",
    "    data_numpy, means_init, stds_init, weights_init, num_mixtures, num_iter\n",
    ")\n",
    "\n",
    "# Run EM algorithm with Numba\n",
    "# Warm-up run\n",
    "means_numba, stds_numba, weights_numba, elapsed_time_numba, log_likelihoods_numba = em_numba(\n",
    "    data_numpy[:100], means_init, stds_init, weights_init, num_mixtures, num_iter, print_output=False\n",
    ")\n",
    "\n",
    "means_numba, stds_numba, weights_numba, elapsed_time_numba, log_likelihoods_numba = em_numba(\n",
    "    data_numpy, means_init, stds_init, weights_init, num_mixtures, num_iter\n",
    ")\n",
    "\n",
    "# Run EM algorithm with CuPy (only works with CUDA-enabled GPU)\n",
    "means_cupy, stds_cupy, weights_cupy, elapsed_time_cupy, log_likelihoods_cupy = em_cupy(\n",
    "    data_cupy, means_init, stds_init, weights_init, num_mixtures, num_iter\n",
    ")\n",
    "\n",
    "print(\"-\" * 50)\n",
    "\n",
    "# Print results\n",
    "print(\"Python:\\n\\tmeans =\", means_py, \"\\n\\tstds =\", stds_py, \"\\n\\tweights =\", weights_py,\n",
    "      \"\\n\\ttime =\", elapsed_time_py, \"s\")\n",
    "\n",
    "print(\"Numpy:\\n\\tmeans =\", means_numpy, \"\\n\\tstds =\", stds_numpy, \"\\n\\tweights =\", weights_numpy,\n",
    "      \"\\n\\ttime =\", elapsed_time_numpy, \"s\")\n",
    "\n",
    "print(\"Numba:\\n\\tmeans =\", means_numba, \"\\n\\tstds =\", stds_numba, \"\\n\\tweights =\", weights_numba,\n",
    "      \"\\n\\ttime =\", elapsed_time_numba, \"s\")\n",
    "\n",
    "print(\"CuPy:\\n\\tmeans =\", means_cupy, \"\\n\\tstds =\", stds_cupy, \"\\n\\tweights =\", weights_cupy,\n",
    "      \"\\n\\ttime =\", elapsed_time_cupy, \"s\")"
   ]
  },
  {
   "cell_type": "markdown",
   "metadata": {
    "id": "rvrS_w-YK-7x"
   },
   "source": [
    "\\normalsize\n",
    "\n",
    "## Visualizations\n",
    "\n",
    "We visualize the convergence of the EM algorithm by plotting the log-likelihood against the number of iterations. @fig-converge shows that the algorithm slowly converges, and there is no significant difference in the log-likelihood between the different implementations. In terms of time, we see that numpy significantly increases performance. Then, using NumPy, the numba approach shows even further improvement. It must be noted that Numba is significantly faster than the other techniques, which comes by adding the `@jit` decorators and the `parallel=True` to existing functions to enable machine-optimized and parallelized execution.\n",
    "\n",
    "\\scriptsize"
   ]
  },
  {
   "cell_type": "code",
   "execution_count": 48,
   "metadata": {
    "colab": {
     "base_uri": "https://localhost:8080/",
     "height": 321
    },
    "executionInfo": {
     "elapsed": 574,
     "status": "ok",
     "timestamp": 1687624784475,
     "user": {
      "displayName": "Ilia Azizi",
      "userId": "02390338256008363424"
     },
     "user_tz": -120
    },
    "id": "wgu_1r48K-7x",
    "outputId": "b7cdfc50-af9e-45b3-ef9f-d2ce02d1b8b1"
   },
   "outputs": [
    {
     "data": {
      "image/png": "[encoded data removed]",
      "text/plain": [
       "<Figure size 700x300 with 1 Axes>"
      ]
     },
     "metadata": {},
     "output_type": "display_data"
    }
   ],
   "source": [
    "#| label: fig-converge\n",
    "#| fig-cap: Log-likelihood and time convergence of the different algorithms\n",
    "# Plot the convergence\n",
    "plt.plot(log_likelihoods_py, label=f'Vanilla Python (ET: {elapsed_time_py:.2f} sec)')\n",
    "plt.plot(log_likelihoods_numpy, label=f'Numpy (ET: {elapsed_time_numpy:.2f} sec)')\n",
    "plt.plot(log_likelihoods_numba, label=f'Numba (ET: {elapsed_time_numba:.2f} sec)')\n",
    "log_likelihoods_cupy_np = [item.get() for item in log_likelihoods_cupy]\n",
    "plt.plot(log_likelihoods_cupy_np, label=f'Cupy (ET: {elapsed_time_cupy:.2f} sec)')\n",
    "plt.title('Convergence of EM algorithm')\n",
    "plt.xlabel('Iteration')\n",
    "plt.ylabel('Log-likelihood')\n",
    "plt.legend()\n",
    "plt.show()"
   ]
  },
  {
   "cell_type": "markdown",
   "metadata": {
    "id": "_TE8JLD7K-7x"
   },
   "source": [
    "\\normalsize\n",
    "\n",
    "We also compare the actual and estimated probability density functions (PDFs) for the different implementations (@fig-predicted-dist). The plots show that all implementations produce similar estimates, confirming the correctness of the implementations.\n",
    "\n",
    "\\scriptsize"
   ]
  },
  {
   "cell_type": "code",
   "execution_count": 49,
   "metadata": {
    "colab": {
     "base_uri": "https://localhost:8080/",
     "height": 306
    },
    "executionInfo": {
     "elapsed": 3269,
     "status": "ok",
     "timestamp": 1687624787741,
     "user": {
      "displayName": "Ilia Azizi",
      "userId": "02390338256008363424"
     },
     "user_tz": -120
    },
    "id": "8ks4q3PvK-7x",
    "outputId": "fb8a0b32-0d4b-4429-a4bb-fc58c83929c1"
   },
   "outputs": [
    {
     "data": {
      "image/png": "[encoded data removed]",
      "text/plain": [
       "<Figure size 700x300 with 1 Axes>"
      ]
     },
     "metadata": {},
     "output_type": "display_data"
    }
   ],
   "source": [
    "#| label: fig-predicted-dist\n",
    "#| fig-cap: Actual vs predicted distributions\n",
    "\n",
    "from scipy.stats import norm\n",
    "\n",
    "# Compute the actual and estimated PDFs\n",
    "x = np.linspace(min(data), max(data), 1000)\n",
    "pdf_actual = sum(w * norm.pdf(x, m, s) for m, s, w in zip(means, stds, weights))\n",
    "pdf_py = sum(w * norm.pdf(x, m, s) for m, s, w in zip(means_py, stds_py, weights_py))\n",
    "pdf_numpy = sum(w * norm.pdf(x, m, s) for m, s, w in zip(means_numpy, stds_numpy, weights_numpy))\n",
    "pdf_numba = sum(w * norm.pdf(x, m, s) for m, s, w in zip(means_numba, stds_numba, weights_numba))\n",
    "means_cupy = cp.asnumpy(means_cupy)\n",
    "stds_cupy = cp.asnumpy(stds_cupy)\n",
    "weights_cupy = cp.asnumpy(weights_cupy)\n",
    "pdf_cupy = sum(w * norm.pdf(x, m, s) for m, s, w in zip(means_cupy, stds_cupy, weights_cupy))\n",
    "\n",
    "# Plot the actual and estimated PDFs\n",
    "plt.hist(data, bins=100, density=True, alpha=0.5, label='Actual')\n",
    "plt.plot(x, pdf_actual, 'k-', label='Actual')\n",
    "plt.plot(x, pdf_py, 'r-', label='Vanilla Python')\n",
    "plt.plot(x, pdf_numpy, 'b-', label='Numpy')\n",
    "plt.plot(x, pdf_numba, 'y-', label='Numba')\n",
    "plt.plot(x, pdf_cupy, 'g-', label='Cupy')\n",
    "plt.title('Actual vs. Estimated Distributions')\n",
    "plt.legend()\n",
    "plt.show()"
   ]
  },
  {
   "cell_type": "markdown",
   "metadata": {
    "id": "Jqmt-HBnK-7x"
   },
   "source": [
    "\\normalsize\n",
    "\n",
    "As we could not test the CuPy approach locally, the same notebook was re-created on Google Colab, which provides CUDA-enabled GPUs. The results from FIGURE show that the speed gain can remarkably improve if adequate hardware is available. From a software standpoint, this requires some changes from NumPy to CuPy; however, as the syntax is very close, the required changes are negligible.\n",
    "\n",
    "# Conclusion\n",
    "\n",
    "In this report, we have explored the Expectation-Maximization (EM) algorithm for Gaussian Mixture Models and implemented it using various Python libraries to optimize its performance. The vanilla Python implementation, while being the most straightforward, was also the slowest due to Python's interpreted nature and lack of vectorized operations. The NumPy implementation improved upon this by utilizing vectorized operations and C-optimized computations, resulting in a significant speedup. The Numba implementation, which uses just-in-time compilation to optimize the runtime code, provided further speed improvements. Finally, we explored using CuPy, a GPU-accelerated library, for numerical computations. While we did not run the CuPy code locally due to hardware constraints, the Google Colab results showed that it provides significant speedups for large datasets due to the massively parallel architecture of modern GPUs.\n",
    "\n",
    "In conclusion, while the optimal approach depends on the specific dataset and hardware configuration, this report demonstrates the potential for significant performance improvements in the EM algorithm using optimized Python libraries and parallel computing techniques. Our parallelization may not be optimal, and adapting other implementations, such as @Lee2016, can help improve the results. Lastly, it is essential to benchmark different approaches with a different number of observations and parameters to evaluate the consistency of the results."
   ]
  }
 ],
 "metadata": {
  "accelerator": "GPU",
  "colab": {
   "gpuType": "T4",
   "provenance": []
  },
  "kernelspec": {
   "display_name": "tf",
   "language": "python",
   "name": "python3"
  },
  "language_info": {
   "codemirror_mode": {
    "name": "ipython",
    "version": 3
   },
   "file_extension": ".py",
   "mimetype": "text/x-python",
   "name": "python",
   "nbconvert_exporter": "python",
   "pygments_lexer": "ipython3",
   "version": "3.11.5"
  }
 },
 "nbformat": 4,
 "nbformat_minor": 0
}
